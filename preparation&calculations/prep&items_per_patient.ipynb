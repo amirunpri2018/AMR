{
 "cells": [
  {
   "cell_type": "markdown",
   "metadata": {},
   "source": [
    "1. Prepare the CCGs dataset for analysis  \n",
    "2. Prepare the data for item_per_patient charts using December 2017 rolling total prescriptions. "
   ]
  },
  {
   "cell_type": "markdown",
   "metadata": {},
   "source": [
    "1. Prepare the CCGs dataset for analysis  "
   ]
  },
  {
   "cell_type": "code",
   "execution_count": null,
   "metadata": {
    "extensions": {
     "jupyter_dashboards": {
      "version": 1,
      "views": {
       "grid_default": {
        "hidden": true
       },
       "report_default": {
        "hidden": true
       }
      }
     }
    }
   },
   "outputs": [],
   "source": [
    "import pandas as pd\n",
    "import numpy as np"
   ]
  },
  {
   "cell_type": "code",
   "execution_count": null,
   "metadata": {},
   "outputs": [],
   "source": [
    "#load datasets\n",
    "ccgs_92377=pd.read_csv('ccgs_92377.csv',low_memory=False)"
   ]
  },
  {
   "cell_type": "raw",
   "metadata": {},
   "source": [
    "Drop empty columns"
   ]
  },
  {
   "cell_type": "code",
   "execution_count": null,
   "metadata": {},
   "outputs": [],
   "source": [
    "ccgs_92377=ccgs_92377.loc[:,ccgs_92377.any()]"
   ]
  },
  {
   "cell_type": "raw",
   "metadata": {},
   "source": [
    "Remove:\n",
    "Data for rearranged CCGs (CCGs (pre 4/2017))\n",
    "['Central Manchester', 'Cumbria', 'Lancashire North', 'North Manchester', 'South Manchester']\n",
    "Data aggregared for England and Regions"
   ]
  },
  {
   "cell_type": "code",
   "execution_count": null,
   "metadata": {},
   "outputs": [],
   "source": [
    "ccgs_92377=ccgs_92377.loc[ccgs_92377['AreaType']=='CCGs (since 4/2017)']"
   ]
  },
  {
   "cell_type": "raw",
   "metadata": {},
   "source": [
    "Check and delete columns with non-uniuque values"
   ]
  },
  {
   "cell_type": "code",
   "execution_count": null,
   "metadata": {},
   "outputs": [],
   "source": [
    "columns_headers=ccgs_92377.columns\n",
    "columns_headers\n",
    "for index, value in enumerate (columns_headers):\n",
    "    print (str(value),':',ccgs_92377[value].unique())"
   ]
  },
  {
   "cell_type": "raw",
   "metadata": {},
   "source": [
    "Result: \n",
    "The columns: 'IndicatorID', 'IndicatorName', Sex, Age, ComparedtoEnglandvalueorpercentiles, Comparedtosubnationalparentvalueorpercentiles and 'AreaType' are  dropped as their value is \n",
    "available in the indicator documentation. \n",
    "Datetime indexing will replace TimeperiodSortable. "
   ]
  },
  {
   "cell_type": "code",
   "execution_count": null,
   "metadata": {},
   "outputs": [],
   "source": [
    "ccgs_92377=ccgs_92377[['AreaName', 'ParentName','AreaCode', 'Timeperiod', 'Value', 'Count', 'Denominator']]"
   ]
  },
  {
   "cell_type": "markdown",
   "metadata": {},
   "source": [
    "Check duplicates"
   ]
  },
  {
   "cell_type": "code",
   "execution_count": null,
   "metadata": {},
   "outputs": [],
   "source": [
    "time_period=ccgs_92377['Timeperiod'].unique()\n",
    "ccgs=ccgs_92377['AreaName'].unique()"
   ]
  },
  {
   "cell_type": "code",
   "execution_count": null,
   "metadata": {},
   "outputs": [],
   "source": [
    "for index, value in enumerate (time_period): #iterate time periods\n",
    "    if index<2:\n",
    "        print (value)\n",
    "        time_period_df=ccgs_92377.loc[ccgs_92377['Timeperiod']==value]\n",
    "        for index1, value1 in enumerate (ccgs): #iterate ccgs in time periods\n",
    "            if index1<3:\n",
    "                print (value1)\n",
    "                ccgs_df=time_period_df.loc[time_period_df['AreaName']==value1]\n",
    "                print (ccgs_df)"
   ]
  },
  {
   "cell_type": "raw",
   "metadata": {},
   "source": [
    "Remove duplicates for CCG/data"
   ]
  },
  {
   "cell_type": "code",
   "execution_count": null,
   "metadata": {},
   "outputs": [],
   "source": [
    "ccgs_92377=ccgs_92377.drop_duplicates (subset=['AreaName','Timeperiod'], \n",
    "                                               keep='first', inplace=False)"
   ]
  },
  {
   "cell_type": "raw",
   "metadata": {},
   "source": [
    "Check the deduplication"
   ]
  },
  {
   "cell_type": "code",
   "execution_count": null,
   "metadata": {},
   "outputs": [],
   "source": [
    "for index, value in enumerate (time_period): #iterate time periods\n",
    "    if index<2:\n",
    "        print (value)\n",
    "        time_period_df=ccgs_92377.loc[ccgs_92377['Timeperiod']==value]\n",
    "        for index1, value1 in enumerate (ccgs): #iterate ccgs in time periods\n",
    "            if index1<3:\n",
    "                print (value1)\n",
    "                ccgs_df=time_period_df.loc[time_period_df['AreaName']==value1]\n",
    "                print (ccgs_df)"
   ]
  },
  {
   "cell_type": "raw",
   "metadata": {},
   "source": [
    "Date-time indexing"
   ]
  },
  {
   "cell_type": "code",
   "execution_count": null,
   "metadata": {
    "extensions": {
     "jupyter_dashboards": {
      "version": 1,
      "views": {
       "grid_default": {
        "hidden": true
       },
       "report_default": {
        "hidden": true
       }
      }
     }
    }
   },
   "outputs": [],
   "source": [
    "#Select monthly data (dates=month-date, exclude quaterly data)\n",
    "#Datetime indexing\n",
    "new_datetime_index=pd.to_datetime(ccgs_92377['Timeperiod'], format='%b-%y')\n",
    "ccgs_92377=ccgs_92377.set_index(new_datetime_index)\n",
    "del ccgs_92377 ['Timeperiod']"
   ]
  },
  {
   "cell_type": "raw",
   "metadata": {},
   "source": [
    "Clean CCGs names"
   ]
  },
  {
   "cell_type": "code",
   "execution_count": null,
   "metadata": {
    "extensions": {
     "jupyter_dashboards": {
      "version": 1,
      "views": {
       "grid_default": {
        "hidden": true
       },
       "report_default": {
        "hidden": true
       }
      }
     }
    }
   },
   "outputs": [],
   "source": [
    "temp_series=ccgs_92377['AreaName'].str.rstrip('CCG')\n",
    "temp_series1=temp_series.str.lstrip('NHS')\n",
    "temp_series2=temp_series1.str.strip()\n",
    "ccgs_92377['AreaName']=temp_series2\n",
    "ccgs_92377.rename(columns = {'AreaName':'CCG'}, inplace = True)"
   ]
  },
  {
   "cell_type": "raw",
   "metadata": {},
   "source": [
    "Clean region names"
   ]
  },
  {
   "cell_type": "code",
   "execution_count": null,
   "metadata": {},
   "outputs": [],
   "source": [
    "temp_series3=ccgs_92377 ['ParentName'].str.rstrip('region')\n",
    "temp_series4=temp_series3.str.rstrip('NHS ')\n",
    "ccgs_92377['ParentName']=temp_series4\n",
    "ccgs_92377.rename(columns = {'ParentName':'Region'}, inplace = True)\n",
    "ccgs_92377['Region'].unique()"
   ]
  },
  {
   "cell_type": "raw",
   "metadata": {},
   "source": [
    "Number of values per CCG"
   ]
  },
  {
   "cell_type": "code",
   "execution_count": null,
   "metadata": {},
   "outputs": [],
   "source": [
    "unique_dates=len(ccgs_92377.index.unique())\n",
    "print ('unique dates=',unique_dates)\n",
    "ccgs=ccgs_92377['CCG'].unique()\n",
    "rows_number_collect=0\n",
    "ccgs_less=[]\n",
    "for index, value in enumerate (ccgs): #iterate ccgs in time periods\n",
    "    ccgs_df=ccgs_92377.loc[ccgs_92377['CCG']==value]\n",
    "    rows_number=len(ccgs_df)\n",
    "    if rows_number<unique_dates:\n",
    "        print (value, 'has only',rows_number, 'rows')\n",
    "        print ('dates:', ccgs_df.index)\n",
    "        ccgs_less=ccgs_less+[value]\n",
    "    rows_number_collect=rows_number_collect+rows_number\n",
    "print ('total rows couted for dataset:', len(ccgs_92377))\n",
    "print ('total rows counted per ccg:', rows_number_collect)  \n",
    "print (ccgs_less)"
   ]
  },
  {
   "cell_type": "code",
   "execution_count": null,
   "metadata": {},
   "outputs": [],
   "source": [
    "ccgs_92377.to_csv('ccgs_92377_clean.csv')"
   ]
  },
  {
   "cell_type": "raw",
   "metadata": {},
   "source": [
    "2. Prepare the data for item_per_patient charts using December 2017 rolling total prescriptions. "
   ]
  },
  {
   "cell_type": "code",
   "execution_count": null,
   "metadata": {},
   "outputs": [],
   "source": [
    "ccgs_92377_Dec_2017=ccgs_92377.loc[ccgs_92377.index=='2017-12-01']"
   ]
  },
  {
   "cell_type": "code",
   "execution_count": null,
   "metadata": {},
   "outputs": [],
   "source": [
    "ccgs_92377_Dec_2017"
   ]
  },
  {
   "cell_type": "code",
   "execution_count": null,
   "metadata": {},
   "outputs": [],
   "source": [
    "ccgs_92377_Dec_2017.to_csv('items_per_patient(Dec-17).csv', index=False)"
   ]
  }
 ],
 "metadata": {
  "extensions": {
   "jupyter_dashboards": {
    "activeView": "grid_default",
    "version": 1,
    "views": {
     "grid_default": {
      "cellMargin": 10,
      "defaultCellHeight": 20,
      "maxColumns": 12,
      "name": "grid",
      "type": "grid"
     },
     "report_default": {
      "name": "report",
      "type": "report"
     }
    }
   }
  },
  "kernelspec": {
   "display_name": "Python 3",
   "language": "python",
   "name": "python3"
  },
  "language_info": {
   "codemirror_mode": {
    "name": "ipython",
    "version": 3
   },
   "file_extension": ".py",
   "mimetype": "text/x-python",
   "name": "python",
   "nbconvert_exporter": "python",
   "pygments_lexer": "ipython3",
   "version": "3.6.4"
  }
 },
 "nbformat": 4,
 "nbformat_minor": 2
}
