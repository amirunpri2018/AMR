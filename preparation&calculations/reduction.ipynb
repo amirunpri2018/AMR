{
 "cells": [
  {
   "cell_type": "markdown",
   "metadata": {},
   "source": [
    "Calculate differences in antibiotic prescription\n",
    "Public Health England (PHE) datasets for Clinical Commissioning Groups (CCGs)"
   ]
  },
  {
   "cell_type": "code",
   "execution_count": 85,
   "metadata": {
    "extensions": {
     "jupyter_dashboards": {
      "version": 1,
      "views": {
       "grid_default": {
        "hidden": true
       },
       "report_default": {
        "hidden": true
       }
      }
     }
    }
   },
   "outputs": [],
   "source": [
    "import pandas as pd\n",
    "import numpy as np\n",
    "import re\n",
    "import datetime\n",
    "\n",
    "import matplotlib.pyplot as plt\n",
    "import seaborn as sns\n",
    "import plotly.plotly as py\n",
    "import cufflinks as cf\n",
    "import plotly.graph_objs as go"
   ]
  },
  {
   "cell_type": "code",
   "execution_count": 86,
   "metadata": {},
   "outputs": [
    {
     "data": {
      "text/html": [
       "<div>\n",
       "<style scoped>\n",
       "    .dataframe tbody tr th:only-of-type {\n",
       "        vertical-align: middle;\n",
       "    }\n",
       "\n",
       "    .dataframe tbody tr th {\n",
       "        vertical-align: top;\n",
       "    }\n",
       "\n",
       "    .dataframe thead th {\n",
       "        text-align: right;\n",
       "    }\n",
       "</style>\n",
       "<table border=\"1\" class=\"dataframe\">\n",
       "  <thead>\n",
       "    <tr style=\"text-align: right;\">\n",
       "      <th></th>\n",
       "      <th>mean</th>\n",
       "      <th>std</th>\n",
       "      <th>min</th>\n",
       "      <th>25%</th>\n",
       "      <th>50%</th>\n",
       "      <th>75%</th>\n",
       "      <th>max</th>\n",
       "      <th>diff.</th>\n",
       "      <th>%diff.</th>\n",
       "      <th>AreaCode</th>\n",
       "    </tr>\n",
       "  </thead>\n",
       "  <tbody>\n",
       "    <tr>\n",
       "      <th>Wokingham</th>\n",
       "      <td>1.096361</td>\n",
       "      <td>0.128674</td>\n",
       "      <td>0.887632</td>\n",
       "      <td>0.984855</td>\n",
       "      <td>1.114881</td>\n",
       "      <td>1.224667</td>\n",
       "      <td>1.258441</td>\n",
       "      <td>0.370809</td>\n",
       "      <td>41.8</td>\n",
       "      <td>E38000209</td>\n",
       "    </tr>\n",
       "    <tr>\n",
       "      <th>Southend</th>\n",
       "      <td>1.312266</td>\n",
       "      <td>0.134439</td>\n",
       "      <td>1.110766</td>\n",
       "      <td>1.214596</td>\n",
       "      <td>1.299737</td>\n",
       "      <td>1.427133</td>\n",
       "      <td>1.526374</td>\n",
       "      <td>0.415608</td>\n",
       "      <td>37.4</td>\n",
       "      <td>E38000168</td>\n",
       "    </tr>\n",
       "    <tr>\n",
       "      <th>Greenwich</th>\n",
       "      <td>1.008254</td>\n",
       "      <td>0.086350</td>\n",
       "      <td>0.876274</td>\n",
       "      <td>0.948608</td>\n",
       "      <td>0.978116</td>\n",
       "      <td>1.085627</td>\n",
       "      <td>1.153810</td>\n",
       "      <td>0.277536</td>\n",
       "      <td>31.7</td>\n",
       "      <td>E38000066</td>\n",
       "    </tr>\n",
       "    <tr>\n",
       "      <th>Enfield</th>\n",
       "      <td>0.980238</td>\n",
       "      <td>0.086953</td>\n",
       "      <td>0.866125</td>\n",
       "      <td>0.912279</td>\n",
       "      <td>0.943843</td>\n",
       "      <td>1.053164</td>\n",
       "      <td>1.139568</td>\n",
       "      <td>0.273442</td>\n",
       "      <td>31.6</td>\n",
       "      <td>E38000057</td>\n",
       "    </tr>\n",
       "    <tr>\n",
       "      <th>Ealing</th>\n",
       "      <td>0.922385</td>\n",
       "      <td>0.092077</td>\n",
       "      <td>0.807871</td>\n",
       "      <td>0.851348</td>\n",
       "      <td>0.869793</td>\n",
       "      <td>1.029526</td>\n",
       "      <td>1.062063</td>\n",
       "      <td>0.254192</td>\n",
       "      <td>31.5</td>\n",
       "      <td>E38000048</td>\n",
       "    </tr>\n",
       "    <tr>\n",
       "      <th>Southwark</th>\n",
       "      <td>0.822577</td>\n",
       "      <td>0.070574</td>\n",
       "      <td>0.711615</td>\n",
       "      <td>0.772357</td>\n",
       "      <td>0.799748</td>\n",
       "      <td>0.892505</td>\n",
       "      <td>0.934390</td>\n",
       "      <td>0.222775</td>\n",
       "      <td>31.3</td>\n",
       "      <td>E38000171</td>\n",
       "    </tr>\n",
       "    <tr>\n",
       "      <th>Vale Royal</th>\n",
       "      <td>1.124266</td>\n",
       "      <td>0.091501</td>\n",
       "      <td>0.954416</td>\n",
       "      <td>1.080340</td>\n",
       "      <td>1.101124</td>\n",
       "      <td>1.220634</td>\n",
       "      <td>1.247929</td>\n",
       "      <td>0.293513</td>\n",
       "      <td>30.8</td>\n",
       "      <td>E38000189</td>\n",
       "    </tr>\n",
       "    <tr>\n",
       "      <th>Corby</th>\n",
       "      <td>1.088365</td>\n",
       "      <td>0.085133</td>\n",
       "      <td>0.999059</td>\n",
       "      <td>1.033148</td>\n",
       "      <td>1.052709</td>\n",
       "      <td>1.125940</td>\n",
       "      <td>1.300060</td>\n",
       "      <td>0.301001</td>\n",
       "      <td>30.1</td>\n",
       "      <td>E38000037</td>\n",
       "    </tr>\n",
       "    <tr>\n",
       "      <th>West Lancashire</th>\n",
       "      <td>1.128477</td>\n",
       "      <td>0.083207</td>\n",
       "      <td>0.955026</td>\n",
       "      <td>1.082946</td>\n",
       "      <td>1.116282</td>\n",
       "      <td>1.213895</td>\n",
       "      <td>1.236643</td>\n",
       "      <td>0.281617</td>\n",
       "      <td>29.5</td>\n",
       "      <td>E38000200</td>\n",
       "    </tr>\n",
       "    <tr>\n",
       "      <th>Barking And Dagenham</th>\n",
       "      <td>1.098038</td>\n",
       "      <td>0.092103</td>\n",
       "      <td>0.960762</td>\n",
       "      <td>1.029688</td>\n",
       "      <td>1.059582</td>\n",
       "      <td>1.202810</td>\n",
       "      <td>1.241309</td>\n",
       "      <td>0.280547</td>\n",
       "      <td>29.2</td>\n",
       "      <td>E38000004</td>\n",
       "    </tr>\n",
       "  </tbody>\n",
       "</table>\n",
       "</div>"
      ],
      "text/plain": [
       "                          mean       std       min       25%       50%  \\\n",
       "Wokingham             1.096361  0.128674  0.887632  0.984855  1.114881   \n",
       "Southend              1.312266  0.134439  1.110766  1.214596  1.299737   \n",
       "Greenwich             1.008254  0.086350  0.876274  0.948608  0.978116   \n",
       "Enfield               0.980238  0.086953  0.866125  0.912279  0.943843   \n",
       "Ealing                0.922385  0.092077  0.807871  0.851348  0.869793   \n",
       "Southwark             0.822577  0.070574  0.711615  0.772357  0.799748   \n",
       "Vale Royal            1.124266  0.091501  0.954416  1.080340  1.101124   \n",
       "Corby                 1.088365  0.085133  0.999059  1.033148  1.052709   \n",
       "West Lancashire       1.128477  0.083207  0.955026  1.082946  1.116282   \n",
       "Barking And Dagenham  1.098038  0.092103  0.960762  1.029688  1.059582   \n",
       "\n",
       "                           75%       max     diff.  %diff.   AreaCode  \n",
       "Wokingham             1.224667  1.258441  0.370809    41.8  E38000209  \n",
       "Southend              1.427133  1.526374  0.415608    37.4  E38000168  \n",
       "Greenwich             1.085627  1.153810  0.277536    31.7  E38000066  \n",
       "Enfield               1.053164  1.139568  0.273442    31.6  E38000057  \n",
       "Ealing                1.029526  1.062063  0.254192    31.5  E38000048  \n",
       "Southwark             0.892505  0.934390  0.222775    31.3  E38000171  \n",
       "Vale Royal            1.220634  1.247929  0.293513    30.8  E38000189  \n",
       "Corby                 1.125940  1.300060  0.301001    30.1  E38000037  \n",
       "West Lancashire       1.213895  1.236643  0.281617    29.5  E38000200  \n",
       "Barking And Dagenham  1.202810  1.241309  0.280547    29.2  E38000004  "
      ]
     },
     "execution_count": 86,
     "metadata": {},
     "output_type": "execute_result"
    }
   ],
   "source": [
    "#load datasets\n",
    "ccgs_92377=pd.read_csv('ccgs_92377_clean.csv',low_memory=False)\n",
    "timeperiods=ccgs_92377['Timeperiod'].unique()\n",
    "\n",
    "#list of ccg names \n",
    "ccgs_list=ccgs_92377['CCG'].unique()\n",
    "ccgs_list=ccgs_list.tolist()\n",
    "\n",
    "#establish time series per individual ccgs as columns\n",
    "all_ccgs=pd.DataFrame()\n",
    "for index, value in enumerate (ccgs_list):\n",
    "        indicator_ccg=ccgs_92377[ccgs_92377['CCG']==value]\n",
    "        indicator_ccg_values=indicator_ccg.loc[:,'Value']\n",
    "        all_ccgs [value]=pd.Series()\n",
    "        all_ccgs [value]=indicator_ccg_values.values #store the indicator data for all ccgs\n",
    "\n",
    "# store descriptive stats for each CCG\n",
    "descriptive_all=pd.DataFrame(all_ccgs.describe())\n",
    "descriptive_all=descriptive_all.transpose() #ccgs as indexed rows and stats as columns\n",
    "del descriptive_all['count']\n",
    "\n",
    "#calculate max-min difference\n",
    "descriptive_all['diff.']=descriptive_all['max']-descriptive_all['min']\n",
    "descriptive_all['%diff.']=round(100*(descriptive_all['diff.']/descriptive_all['min']),1)\n",
    "descriptive_all['AreaCode']=area_codes=ccgs_92377['AreaCode'].unique()\n",
    "\n",
    "#sort by difference values\n",
    "descriptive_all_sorted=descriptive_all.sort_values(by=['%diff.'],ascending=False)\n",
    "descriptive_all_sorted.head(10)"
   ]
  },
  {
   "cell_type": "code",
   "execution_count": 87,
   "metadata": {},
   "outputs": [
    {
     "data": {
      "image/png": "[encoded data removed]",
      "text/plain": [
       "<matplotlib.figure.Figure at 0x1a188c1898>"
      ]
     },
     "metadata": {},
     "output_type": "display_data"
    }
   ],
   "source": [
    "sns.set(font_scale = 1.3)\n",
    "\n",
    "plt.subplot(1,2, 1)\n",
    "kx=descriptive_all_sorted['%diff.'].plot(color=['green'], figsize=(12,6))\n",
    "plt.xlabel('CCG list (Sorted by Difference)',fontsize=14)\n",
    "plt.ylabel('% Difference', fontsize=14)\n",
    "kx.set_title('Reduction per CCG\\n', fontsize=18)\n",
    "kx.margins(0.02)\n",
    "\n",
    "plt.subplot(1,2, 2)\n",
    "lx=descriptive_all_sorted['%diff.'].plot(kind='hist',bins=20, color=['green'], figsize=(12,6))\n",
    "lx.set_title('Reduction frequencies\\n', fontsize=18)\n",
    "plt.xlabel('% Difference',fontsize=14)\n",
    "plt.ylabel('Number of CCGs', fontsize=14)\n",
    "lx.margins(0.02)\n",
    "\n",
    "\n",
    "plt.tight_layout()\n",
    "plt.show()"
   ]
  },
  {
   "cell_type": "code",
   "execution_count": 88,
   "metadata": {},
   "outputs": [
    {
     "data": {
      "text/html": [
       "<iframe id=\"igraph\" scrolling=\"no\" style=\"border:none;\" seamless=\"seamless\" src=\"https://plot.ly/~rony_armon/89.embed\" height=\"525px\" width=\"100%\"></iframe>"
      ],
      "text/plain": [
       "<plotly.tools.PlotlyDisplay object>"
      ]
     },
     "execution_count": 88,
     "metadata": {},
     "output_type": "execute_result"
    }
   ],
   "source": [
    "#use plotly to show individual ccgs\n",
    "data = [\n",
    "    go.Scatter(\n",
    "        x=descriptive_all.index, \n",
    "        y=descriptive_all_sorted['%diff.'],\n",
    "        mode = 'lines+markers',\n",
    "        line = dict(\n",
    "        color = ('rgb(40, 140, 60)'),\n",
    "        width = 2)\n",
    "    )\n",
    "]\n",
    "py.iplot(data, filename='%diff_ccgs')"
   ]
  },
  {
   "cell_type": "markdown",
   "metadata": {
    "extensions": {
     "jupyter_dashboards": {
      "version": 1,
      "views": {
       "grid_default": {
        "col": 7,
        "height": 4,
        "hidden": true,
        "row": 17,
        "width": 4
       },
       "report_default": {
        "hidden": false
       }
      }
     }
    }
   },
   "source": [
    "Findings: The typical difference between minimal and maximal levels of perscription is aruond 10%. \n",
    "Some trusts however, showed much higher levels of difference, between 25-40%. "
   ]
  },
  {
   "cell_type": "code",
   "execution_count": 89,
   "metadata": {},
   "outputs": [],
   "source": [
    "#results to csvs for dashboard\n",
    "descriptive_all.to_csv('diff_2014_2017.csv')"
   ]
  }
 ],
 "metadata": {
  "extensions": {
   "jupyter_dashboards": {
    "activeView": "grid_default",
    "version": 1,
    "views": {
     "grid_default": {
      "cellMargin": 10,
      "defaultCellHeight": 20,
      "maxColumns": 12,
      "name": "grid",
      "type": "grid"
     },
     "report_default": {
      "name": "report",
      "type": "report"
     }
    }
   }
  },
  "kernelspec": {
   "display_name": "Python 3",
   "language": "python",
   "name": "python3"
  },
  "language_info": {
   "codemirror_mode": {
    "name": "ipython",
    "version": 3
   },
   "file_extension": ".py",
   "mimetype": "text/x-python",
   "name": "python",
   "nbconvert_exporter": "python",
   "pygments_lexer": "ipython3",
   "version": "3.6.4"
  }
 },
 "nbformat": 4,
 "nbformat_minor": 2
}
