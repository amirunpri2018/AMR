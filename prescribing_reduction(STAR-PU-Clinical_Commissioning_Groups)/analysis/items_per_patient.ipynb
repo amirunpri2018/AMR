{
 "cells": [
  {
   "cell_type": "code",
   "execution_count": 111,
   "metadata": {
    "extensions": {
     "jupyter_dashboards": {
      "version": 1,
      "views": {
       "grid_default": {
        "hidden": true
       },
       "report_default": {
        "hidden": true
       }
      }
     }
    }
   },
   "outputs": [],
   "source": [
    "import pandas as pd\n",
    "import re\n",
    "import datetime\n",
    "import matplotlib.pyplot as plt\n",
    "import seaborn as sns\n",
    "import plotly.plotly as py\n",
    "import plotly.graph_objs as go\n",
    "import cufflinks as cf"
   ]
  },
  {
   "cell_type": "code",
   "execution_count": 129,
   "metadata": {},
   "outputs": [],
   "source": [
    "#load datasets\n",
    "dir_path='//Users/rony/Dropbox/2. projects/AMR/datasets/Fingertips(PHE)/'\n",
    "indicators=pd.read_csv(dir_path+'CCGs.csv',low_memory=False)"
   ]
  },
  {
   "cell_type": "code",
   "execution_count": 130,
   "metadata": {
    "extensions": {
     "jupyter_dashboards": {
      "version": 1,
      "views": {
       "grid_default": {
        "hidden": true
       },
       "report_default": {
        "hidden": true
       }
      }
     }
    }
   },
   "outputs": [],
   "source": [
    "#Select monthly data (dates=month-date, exclude quaterly data)\n",
    "ID92377=indicators.loc[indicators['Indicator ID']==92377]"
   ]
  },
  {
   "cell_type": "code",
   "execution_count": 131,
   "metadata": {
    "extensions": {
     "jupyter_dashboards": {
      "version": 1,
      "views": {
       "grid_default": {
        "hidden": true
       },
       "report_default": {
        "hidden": true
       }
      }
     }
    }
   },
   "outputs": [],
   "source": [
    "indicator=92377"
   ]
  },
  {
   "cell_type": "code",
   "execution_count": 132,
   "metadata": {},
   "outputs": [],
   "source": [
    "#filter for CCGs\n",
    "ID92377=ID92377.loc[ID92377['Area Name'].str.contains('CCG')]\n",
    "#Shorten GCC names \n",
    "temp_series=ID92377['Area Name'].str.rstrip('CCG')\n",
    "temp_series1=temp_series.str.lstrip('NHS')\n",
    "temp_series2=temp_series1.str.strip()\n",
    "ID92377['Area Name']=temp_series2\n",
    "ID92377.rename(columns = {'Area Name':'CCG'}, inplace = True)\n",
    "#Shorten Parent names (regions)\n",
    "temp_series3=ID92377 ['Parent Name'].str.rstrip('region')\n",
    "temp_series4=temp_series3.str.rstrip('NHS ')\n",
    "ID92377['Parent Name']=temp_series4\n",
    "ID92377.rename(columns = {'Parent Name':'Region'}, inplace = True)"
   ]
  },
  {
   "cell_type": "raw",
   "metadata": {},
   "source": [
    "Select data for the year ending Sept_2017"
   ]
  },
  {
   "cell_type": "code",
   "execution_count": 133,
   "metadata": {},
   "outputs": [],
   "source": [
    "ID92377_Sept_2017=ID92377.loc[ID92377['Time period']=='Sep-17']"
   ]
  },
  {
   "cell_type": "code",
   "execution_count": 134,
   "metadata": {},
   "outputs": [],
   "source": [
    "ID92377_Sept_2017=ID92377_Sept_2017[['CCG', 'Area Code','Region','Value','Denominator','Count']]"
   ]
  },
  {
   "cell_type": "code",
   "execution_count": null,
   "metadata": {},
   "outputs": [],
   "source": [
    "ID92377_Sept_2017.tail(30)"
   ]
  },
  {
   "cell_type": "code",
   "execution_count": 137,
   "metadata": {},
   "outputs": [
    {
     "data": {
      "text/plain": [
       "143591.0"
      ]
     },
     "execution_count": 137,
     "metadata": {},
     "output_type": "execute_result"
    }
   ],
   "source": [
    "ID92377_Sept_2017['Count'].median()"
   ]
  },
  {
   "cell_type": "code",
   "execution_count": 128,
   "metadata": {},
   "outputs": [],
   "source": [
    "ID92377_Sept_2017.to_csv('items_per_patient(2016-2017).csv',index=False)"
   ]
  }
 ],
 "metadata": {
  "extensions": {
   "jupyter_dashboards": {
    "activeView": "grid_default",
    "version": 1,
    "views": {
     "grid_default": {
      "cellMargin": 10,
      "defaultCellHeight": 20,
      "maxColumns": 12,
      "name": "grid",
      "type": "grid"
     },
     "report_default": {
      "name": "report",
      "type": "report"
     }
    }
   }
  },
  "kernelspec": {
   "display_name": "Python 3",
   "language": "python",
   "name": "python3"
  },
  "language_info": {
   "codemirror_mode": {
    "name": "ipython",
    "version": 3
   },
   "file_extension": ".py",
   "mimetype": "text/x-python",
   "name": "python",
   "nbconvert_exporter": "python",
   "pygments_lexer": "ipython3",
   "version": "3.6.4"
  }
 },
 "nbformat": 4,
 "nbformat_minor": 2
}
