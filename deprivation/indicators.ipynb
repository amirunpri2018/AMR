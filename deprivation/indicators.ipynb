{
 "cells": [
  {
   "cell_type": "code",
   "execution_count": 51,
   "metadata": {
    "extensions": {
     "jupyter_dashboards": {
      "version": 1,
      "views": {
       "grid_default": {
        "hidden": true
       },
       "report_default": {
        "hidden": true
       }
      }
     }
    }
   },
   "outputs": [],
   "source": [
    "import pandas as pd\n",
    "import re\n",
    "import datetime\n",
    "import matplotlib.pyplot as plt\n",
    "import seaborn as sns\n",
    "import plotly.plotly as py\n",
    "import plotly.graph_objs as go\n",
    "import cufflinks as cf"
   ]
  },
  {
   "cell_type": "raw",
   "metadata": {},
   "source": [
    "Note: These are aggregate measures based on the England Indicides of Multiple Deprivation for 2010.\n",
    "I have the data for IMD 2015 per CCG (CCG_IMD_Summaries) that can be used for regression and geospatial examination of the relationship between local deprivatrion and prescribing."
   ]
  },
  {
   "cell_type": "code",
   "execution_count": 52,
   "metadata": {},
   "outputs": [],
   "source": [
    "dir_path='//Users/rony/Dropbox/2. projects/AMR/datasets/Fingertips(PHE)/CCGs.csv'\n",
    "CCGs_source=pd.read_csv(dir_path,low_memory=False)"
   ]
  },
  {
   "cell_type": "code",
   "execution_count": 53,
   "metadata": {},
   "outputs": [],
   "source": [
    "deprivation=CCGs_source[CCGs_source ['Category Type']=='CCG deprivation deciles in England (IMD2010)'] #filter: deciles            \n",
    "deprivation=deprivation.loc[deprivation['Area Name']=='England'] #filter: England\n",
    "del deprivation['Area Name'],deprivation['Category Type']"
   ]
  },
  {
   "cell_type": "code",
   "execution_count": 54,
   "metadata": {},
   "outputs": [],
   "source": [
    "deprivation=deprivation[['Indicator ID','Time period', 'Value','Denominator',\n",
    "       'Count',  'Value note', 'Recent Trend', 'Category']]\n",
    "indicators=deprivation['Indicator ID'].unique()"
   ]
  },
  {
   "cell_type": "code",
   "execution_count": 55,
   "metadata": {},
   "outputs": [],
   "source": [
    "indicators_md=pd.read_csv('//Users/rony/Dropbox/2. projects/AMR/datasets/Fingertips(PHE)/metadata/AMRlocalindicators.metadata.csv',low_memory=False)"
   ]
  },
  {
   "cell_type": "code",
   "execution_count": 56,
   "metadata": {},
   "outputs": [],
   "source": [
    "#index by indicators\n",
    "indicators_md=indicators_md.set_index('Indicator ID')"
   ]
  },
  {
   "cell_type": "code",
   "execution_count": 57,
   "metadata": {
    "extensions": {
     "jupyter_dashboards": {
      "version": 1,
      "views": {
       "grid_default": {
        "hidden": true
       },
       "report_default": {
        "hidden": true
       }
      }
     }
    }
   },
   "outputs": [
    {
     "name": "stdout",
     "output_type": "stream",
     "text": [
      "-------------------------------England Indicators-----------------------------------\n",
      "-----------------------------------------------------------------------------\n",
      "Indicator: 92377\n",
      "Description:  Twelve month rolling total number of prescribed antibiotic items per STAR-PU by Clinical Commissioning Group (CCG) within England.\n",
      "Methodology:  Numerator is divided by the denominator (items divided by STAR-PU)\n",
      "Unit:  per STAR-PU\n",
      "Numerator:  Total number of antibiotic items prescribedin practices located within the area. An item is an antibiotic (from British National Formulary Section 5.1) that is prescribed in a primary care settingA prescription item refers to a single item prescribed by a prescriber on a prescription form (known as an FP10). If a prescription form includes three medicines it is counted as three prescription items. The number of items is a measure of how often a prescriber has decided to write a prescription. It is often used when we wish to look at prescriber behaviour as every prescription is an opportunity to change treatment. For vaccinations and acute treatment (for example, a short course of antibiotics) the item is also a reasonable measure of the number of courses of treatment.GP practice counts of items are aggregated to CCG\n",
      "Denominator:  STAR-PU are weighted units to allow comparisons adjusting for the age and sex of patients distribution of each practice.\n",
      "Production:  nan\n",
      "-----------------------------------------------------------------------------\n",
      "Indicator: 92350\n",
      "Description:  Twelve month rolling percentage of prescribed antibiotic items from cephalosporin, quinolone and co-amoxiclav class.\n",
      "Methodology:  The percentage of broad spectrum antibiotic in antibiotic prescribing. Total consumptionof cephalosporin, fluoroquinolone and co-amoxiclavantibiotics divided by the aggregated total of the sub set of antibiotic prescribing made up of BNF 5.1 category.\n",
      "Unit:  %\n",
      "Numerator:  Cephalosporin, fluoroquinolone and co-amoxiclav, are broad spectrum antimicrobials. These form an important category for prescribing surveillance.\n",
      "Denominator:  Prescribing data is supplied by NHS Digital and derived from a full British National Formulary (BNF Code). The BNF code details the full ATC code of the drug as well as specifying the derivative of the drug including administration route.N<a href=\"http://www.hscic.gov.uk/\">umerator data isa sub set of the BNF 5.1 category. The full list of BNF formulae included can be found on the  https://apps.nhsbsa.nhs.uk/infosystems/welcome  website.\n",
      "Production:  Prescribing data is supplied to NHS Digital and downloaded monthly to PHE. The data is aggregated to produce both quarterly and annual levels of consumption.\n",
      "-----------------------------------------------------------------------------\n",
      "Indicator: 92165\n",
      "Description:  Total number of prescribed antibiotic items per 1000 resident individuals by quarter and CCG at the primary care level.\n",
      "Methodology:  Rate, antibiotic items per 1000 inhabitants per quarter. The numerator (itemsprescribed in a quarter)is divided by the denominator (population) then multiplied by 1000.\n",
      "Unit:  per 1000\n",
      "Numerator:  <span style=\"font-family: 'Arial','sans-serif'; font-size: 11pt;\">Prescribing data is supplied by GP’s to HSCIC. Drug derivatives are supplied with full British National Formulary (BNF Code). The BNF code details the full ATC code of the drug as well as specifying the administration route. More information can be found <a href=\"http://www.bnf.org/\"><span style=\"color: #0000ff;\" color=\"#0000ff\">http://www.bnf.org/<o:p></o:p>\n",
      "Denominator:  <span style=\"font-family: 'Arial','sans-serif';\"><span style=\"font-size: medium;\" size=\"3\">The data accounted for all individuals that appeared on the most recent census. Data is adjusted each year to give midyear population estimates. The numbers are supplied by  https://www.ons.gov.uk/  at CCG level.\n",
      "Production:  Prescribing data is supplied to NHS Digital and downloaded monthly to PHE. The data is aggregated to produce both quarterly and annual levels of consumption.\n",
      "-----------------------------------------------------------------------------\n",
      "Indicator: 91904\n",
      "Description:  Quarterly total number of prescribed antibiotic items per Specific Therapeutic group Age-sex weightings Related Prescribing Units (STAR-PU) by Clinical Commissioning Group (CCG) within England.\n",
      "Methodology:  Numerator is divided by the denominator (items divided by STAR-PU)\n",
      "Unit:  Number of items prescribed\n",
      "Numerator:  Total number of antibiotic items prescribed in practices located within the area. An item is an antibiotic (from British National Formulary Section 5.1) that is prescribed in a primary care settingA prescription item refers to a single item prescribed by a prescriber on a prescription form (known as an FP10). If a prescription form includes three medicines it is counted as three prescription items. The number of items is a measure of how often a prescriber has decided to write a prescription. It is often used when we wish to look at prescriber behaviour as every prescription is an opportunity to change treatment. For vaccinations and acute treatment (for example, a short course of antibiotics) the item is also a reasonable measure of the number of courses of treatment.GP practice counts of items are aggregated to CCG\n",
      "Denominator:  STAR-PU are weighted units to allow comparisons adjusting for the age and sex of patients distribution of each practice.\n",
      "Production:  nan\n",
      "-----------------------------------------------------------------------------\n",
      "Indicator: 92167\n",
      "Description:  Percentage of cephalosporin, quinolone and co-amoxiclav class prescribed antibiotic items in relation to a sub set of the British National Formula (BNF) 5.1 category, by quarter.\n",
      "Methodology:  The percentage of broad spectrum antibiotic in antibiotic prescribing. Total consumption of cephalosporin, fluoroquinolone and co-amoxiclavantibiotics divided by the aggregated total of the sub set of antibiotic prescribing made up of BNF 5.1 category.\n",
      "Unit:  %\n",
      "Numerator:  Cephalosporin, fluoroquinolone and co-amoxiclav, are broad spectrum antimicrobials. These form an important category for prescribing surveillance.\n",
      "Denominator:  Prescribing data is supplied by NHS Digital and derived from a full British National Formulary (BNF Code). The BNF code details the full ATC code of the drug as well as specifying the derivative of the drug including administration route.N<a href=\"http://www.hscic.gov.uk/\">umerator data isa sub set of the BNF 5.1 category. The full list of BNF formulae included can be found on the  https://apps.nhsbsa.nhs.uk/infosystems/welcome\n",
      "Production:  NHS Digital supply monthly prescribing data that is aggregated in to annual and quarterly totals.\n",
      "-----------------------------------------------------------------------------\n",
      "Indicator: 92019\n",
      "Description:  Antibiotic Guardians per 100,000 population per calendar year by CCGs.\n",
      "Methodology:  The count of Antibiotic Guardians per CCG catchment area, as defined by valid half-postcodes, are devided by the ONS mid-year population estimates.\n",
      "Unit:  per 100,000\n",
      "Numerator:  Antibiotic Guardian pledgees in England.\n",
      "Denominator:  2014 mid-year estimates based on CCG boundaries\n",
      "Production:  Antibiotic Guardians submit half-postcodes during their signup. Valid English half-postcodes are matched to their CCG catchment area by calendar year. Population estimates are based on ONS mid-year estimates.\n"
     ]
    }
   ],
   "source": [
    "print ('-------------------------------England Indicators-----------------------------------')\n",
    "\n",
    "for index, indicator in enumerate (indicators):\n",
    "    print ('-----------------------------------------------------------------------------')\n",
    "    print ('Indicator:',indicator)\n",
    "    print ('Description: ',indicators_md.loc[indicator,'Indicator full name'],end='.\\n')\n",
    "    print ('Methodology: ',indicators_md.loc[indicator,'Methodology'],end='\\n')\n",
    "    print ('Unit: ',indicators_md.loc[indicator,'Unit'],end='\\n')\n",
    "    print ('Numerator: ',indicators_md.loc[indicator,'Definition of numerator'],end='\\n')\n",
    "    print ('Denominator: ',indicators_md.loc[indicator,'Definition of denominator'],end='\\n')\n",
    "    print ('Production: ',indicators_md.loc[indicator,'Indicator production'],end='\\n')    "
   ]
  },
  {
   "cell_type": "code",
   "execution_count": 58,
   "metadata": {},
   "outputs": [],
   "source": [
    "#Produce a list of deprivation categories\n",
    "deprivation_categories=deprivation['Category'].unique()\n",
    "\n",
    "indicators_dict={} #dictionary to contain dataframe for each indicator\n",
    "for index1, indicator in enumerate (indicators): #iterate to produce a dataframe for each indicator\n",
    "    df_ind_deciles=pd.DataFrame() #a dataframe to collect all decile data per the indicator\n",
    "    #print (indicator)\n",
    "    df_indicator=deprivation.loc[deprivation['Indicator ID']==indicator] #df_indicator=indicator dataframe with all categories\n",
    "    #print (df_indicator['Value'].head(2)) \n",
    "    for index, category in enumerate (deprivation_categories): #iterate decile categories\n",
    "        df_decile=pd.Series() #  a series to collect a decile category data per the indicator\n",
    "        #print (category)\n",
    "        df_decile=df_indicator['Value'].loc[df_indicator['Category']==category]\n",
    "        #print (time_period)\n",
    "        #print (df_decile.head())\n",
    "        df_ind_deciles[category]=df_decile.values\n",
    "        df_ind_deciles[category]=round (df_ind_deciles[category],2)\n",
    "    #set date_time index\n",
    "    time_period=df_indicator['Time period'].loc[df_indicator['Category']==category].unique()\n",
    "    df_ind_deciles=df_ind_deciles.set_index(time_period)\n",
    "    indicators_dict[indicator]=df_ind_deciles"
   ]
  },
  {
   "cell_type": "code",
   "execution_count": 59,
   "metadata": {},
   "outputs": [
    {
     "data": {
      "text/plain": [
       "array([92377, 92350, 92165, 91904, 92167, 92019])"
      ]
     },
     "execution_count": 59,
     "metadata": {},
     "output_type": "execute_result"
    }
   ],
   "source": [
    "indicators"
   ]
  },
  {
   "cell_type": "code",
   "execution_count": 62,
   "metadata": {},
   "outputs": [
    {
     "name": "stdout",
     "output_type": "stream",
     "text": [
      "92377_deprivation.csv\n",
      "92350_deprivation.csv\n",
      "92165_deprivation.csv\n",
      "91904_deprivation.csv\n",
      "92167_deprivation.csv\n",
      "92019_deprivation.csv\n"
     ]
    }
   ],
   "source": [
    "#produce csvs\n",
    "\n",
    "for indicator in indicators:\n",
    "    # Create the file name: file_name\n",
    "    file_name = \"%s_deprivation.csv\" % indicator\n",
    "    print (file_name)\n",
    "    indicators_dict[indicator].to_csv(file_name)\n",
    "#The expression \"%s_top5.csv\" % medal evaluates as a string with the value of medal replacing %s in the format string."
   ]
  },
  {
   "cell_type": "raw",
   "metadata": {},
   "source": [
    "Charts"
   ]
  },
  {
   "cell_type": "raw",
   "metadata": {},
   "source": [
    "Indicator: 91904\n",
    "Description: Quarterly total number of prescribed antibiotic items per Specific Therapeutic group Age-sex weightings \n",
    "Related Prescribing Units (STAR-PU) by Clinical Commissioning Group (CCG) within England."
   ]
  },
  {
   "cell_type": "code",
   "execution_count": 45,
   "metadata": {},
   "outputs": [
    {
     "data": {
      "text/html": [
       "<iframe id=\"igraph\" scrolling=\"no\" style=\"border:none;\" seamless=\"seamless\" src=\"https://plot.ly/~rony_armon/77.embed\" height=\"525px\" width=\"100%\"></iframe>"
      ],
      "text/plain": [
       "<plotly.tools.PlotlyDisplay object>"
      ]
     },
     "execution_count": 45,
     "metadata": {},
     "output_type": "execute_result"
    }
   ],
   "source": [
    "all_deciles=indicators_dict[91904]\n",
    "py.iplot([{\n",
    "    'x': all_deciles.index,\n",
    "    'y': all_deciles[col],\n",
    "    'name': col}  for col in all_deciles.columns], filename='91904_deciles')"
   ]
  },
  {
   "cell_type": "raw",
   "metadata": {},
   "source": [
    "Indicator: 92377\n",
    "Description:  Twelve month rolling total number of prescribed antibiotic items per STAR-PU by \n",
    "Clinical Commissioning Group (CCG) within England"
   ]
  },
  {
   "cell_type": "code",
   "execution_count": 46,
   "metadata": {},
   "outputs": [
    {
     "data": {
      "text/html": [
       "<iframe id=\"igraph\" scrolling=\"no\" style=\"border:none;\" seamless=\"seamless\" src=\"https://plot.ly/~rony_armon/79.embed\" height=\"525px\" width=\"100%\"></iframe>"
      ],
      "text/plain": [
       "<plotly.tools.PlotlyDisplay object>"
      ]
     },
     "execution_count": 46,
     "metadata": {},
     "output_type": "execute_result"
    }
   ],
   "source": [
    "all_deciles=indicators_dict[92377]\n",
    "py.iplot([{\n",
    "    'x': all_deciles.index,\n",
    "    'y': all_deciles[col],\n",
    "    'name': col}  for col in all_deciles.columns], filename='92377_deciles')"
   ]
  },
  {
   "cell_type": "raw",
   "metadata": {},
   "source": [
    "Indicator: 92350\n",
    "Description:  Twelve month rolling percentage of prescribed antibiotic items from cephalosporin, \n",
    "    quinolone and co-amoxiclav class.\n",
    "Cephalosporin, fluoroquinolone and co-amoxiclav, are broad spectrum antimicrobials. T\n",
    "These form an important category for prescribing surveillance."
   ]
  },
  {
   "cell_type": "code",
   "execution_count": 47,
   "metadata": {},
   "outputs": [
    {
     "data": {
      "text/html": [
       "<iframe id=\"igraph\" scrolling=\"no\" style=\"border:none;\" seamless=\"seamless\" src=\"https://plot.ly/~rony_armon/81.embed\" height=\"525px\" width=\"100%\"></iframe>"
      ],
      "text/plain": [
       "<plotly.tools.PlotlyDisplay object>"
      ]
     },
     "execution_count": 47,
     "metadata": {},
     "output_type": "execute_result"
    }
   ],
   "source": [
    "all_deciles=indicators_dict[92350]\n",
    "#the year 2011 included many empty values and was therefore excluded:\n",
    "indicators_dict[92350]=indicators_dict[92350].dropna() \n",
    "\n",
    "#to dashboard\n",
    "py.iplot([{\n",
    "    'x': all_deciles.index,\n",
    "    'y': all_deciles[col],\n",
    "    'name': col}  for col in all_deciles.columns], filename='92350_deciles')"
   ]
  },
  {
   "cell_type": "raw",
   "metadata": {},
   "source": [
    "Indicator: 92167\n",
    "Description:  Percentage of cephalosporin, quinolone and co-amoxiclav class prescribed antibiotic items \n",
    "in relation to a sub set of the British National Formula (BNF) 5.1 category, by quarter."
   ]
  },
  {
   "cell_type": "code",
   "execution_count": 49,
   "metadata": {},
   "outputs": [
    {
     "data": {
      "text/html": [
       "<iframe id=\"igraph\" scrolling=\"no\" style=\"border:none;\" seamless=\"seamless\" src=\"https://plot.ly/~rony_armon/85.embed\" height=\"525px\" width=\"100%\"></iframe>"
      ],
      "text/plain": [
       "<plotly.tools.PlotlyDisplay object>"
      ]
     },
     "execution_count": 49,
     "metadata": {},
     "output_type": "execute_result"
    }
   ],
   "source": [
    "all_deciles=indicators_dict[92167]\n",
    "py.iplot([{\n",
    "    'x': all_deciles.index,\n",
    "    'y': all_deciles[col],\n",
    "    'name': col}  for col in all_deciles.columns], filename='92167_deciles')"
   ]
  },
  {
   "cell_type": "raw",
   "metadata": {},
   "source": [
    "Indicator: 92165\n",
    "Description:  Total number of prescribed antibiotic items per 1000 resident individuals \n",
    "by quarter and CCG at the primary care level."
   ]
  },
  {
   "cell_type": "code",
   "execution_count": 50,
   "metadata": {},
   "outputs": [
    {
     "data": {
      "text/html": [
       "<iframe id=\"igraph\" scrolling=\"no\" style=\"border:none;\" seamless=\"seamless\" src=\"https://plot.ly/~rony_armon/75.embed\" height=\"525px\" width=\"100%\"></iframe>"
      ],
      "text/plain": [
       "<plotly.tools.PlotlyDisplay object>"
      ]
     },
     "execution_count": 50,
     "metadata": {},
     "output_type": "execute_result"
    }
   ],
   "source": [
    "all_deciles=indicators_dict[92165]\n",
    "py.iplot([{\n",
    "    'x': all_deciles.index,\n",
    "    'y': all_deciles[col],\n",
    "    'name': col}  for col in all_deciles.columns], filename='England_deciles')"
   ]
  },
  {
   "cell_type": "code",
   "execution_count": 44,
   "metadata": {},
   "outputs": [
    {
     "data": {
      "text/html": [
       "<script>\n",
       "code_show=true; \n",
       "function code_toggle() {\n",
       " if (code_show){\n",
       " $('div.input').hide();\n",
       " } else {\n",
       " $('div.input').show();\n",
       " }\n",
       " code_show = !code_show\n",
       "} \n",
       "$( document ).ready(code_toggle);\n",
       "</script>\n",
       "The raw code for this IPython notebook is by default hidden for easier reading.\n",
       "To toggle on/off the raw code, click <a href=\"javascript:code_toggle()\">here</a>."
      ],
      "text/plain": [
       "<IPython.core.display.HTML object>"
      ]
     },
     "execution_count": 44,
     "metadata": {},
     "output_type": "execute_result"
    }
   ],
   "source": [
    "from IPython.display import HTML\n",
    "HTML('''<script>\n",
    "code_show=true; \n",
    "function code_toggle() {\n",
    " if (code_show){\n",
    " $('div.input').hide();\n",
    " } else {\n",
    " $('div.input').show();\n",
    " }\n",
    " code_show = !code_show\n",
    "} \n",
    "$( document ).ready(code_toggle);\n",
    "</script>\n",
    "The raw code for this IPython notebook is by default hidden for easier reading.\n",
    "To toggle on/off the raw code, click <a href=\"javascript:code_toggle()\">here</a>.''')"
   ]
  },
  {
   "cell_type": "code",
   "execution_count": null,
   "metadata": {},
   "outputs": [],
   "source": []
  }
 ],
 "metadata": {
  "extensions": {
   "jupyter_dashboards": {
    "activeView": "grid_default",
    "version": 1,
    "views": {
     "grid_default": {
      "cellMargin": 10,
      "defaultCellHeight": 20,
      "maxColumns": 12,
      "name": "grid",
      "type": "grid"
     },
     "report_default": {
      "name": "report",
      "type": "report"
     }
    }
   }
  },
  "kernelspec": {
   "display_name": "Python 3",
   "language": "python",
   "name": "python3"
  },
  "language_info": {
   "codemirror_mode": {
    "name": "ipython",
    "version": 3
   },
   "file_extension": ".py",
   "mimetype": "text/x-python",
   "name": "python",
   "nbconvert_exporter": "python",
   "pygments_lexer": "ipython3",
   "version": "3.6.4"
  }
 },
 "nbformat": 4,
 "nbformat_minor": 2
}
