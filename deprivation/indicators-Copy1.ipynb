{
 "cells": [
  {
   "cell_type": "code",
   "execution_count": 1,
   "metadata": {
    "extensions": {
     "jupyter_dashboards": {
      "version": 1,
      "views": {
       "grid_default": {
        "hidden": true
       },
       "report_default": {
        "hidden": true
       }
      }
     }
    }
   },
   "outputs": [],
   "source": [
    "import pandas as pd\n",
    "import re\n",
    "import datetime\n",
    "import matplotlib.pyplot as plt\n",
    "import seaborn as sns\n",
    "import plotly.plotly as py\n",
    "import plotly.graph_objs as go\n",
    "import cufflinks as cf"
   ]
  },
  {
   "cell_type": "raw",
   "metadata": {},
   "source": [
    "Note: These are aggregate measures based on the England Indicides of Multiple Deprivation for 2010.\n",
    "I have the data for IMD 2015 per CCG (CCG_IMD_Summaries) that can be used for regression and geospatial examination of the relationship between local deprivatrion and prescribing."
   ]
  },
  {
   "cell_type": "code",
   "execution_count": 2,
   "metadata": {},
   "outputs": [],
   "source": [
    "dir_path='//Users/rony/Dropbox/2. projects/AMR/datasets/Fingertips(PHE)/CCGs.csv'\n",
    "CCGs_source=pd.read_csv(dir_path,low_memory=False)"
   ]
  },
  {
   "cell_type": "code",
   "execution_count": 3,
   "metadata": {},
   "outputs": [],
   "source": [
    "deprivation=CCGs_source[CCGs_source ['Category Type']=='CCG deprivation deciles in England (IMD2010)'] #filter: deciles            \n",
    "deprivation=deprivation.loc[deprivation['Area Name']=='England'] #filter: England\n",
    "del deprivation['Area Name'],deprivation['Category Type']"
   ]
  },
  {
   "cell_type": "code",
   "execution_count": 4,
   "metadata": {},
   "outputs": [],
   "source": [
    "deprivation=deprivation[['Indicator ID','Time period', 'Value','Denominator',\n",
    "       'Count',  'Value note', 'Recent Trend', 'Category']]"
   ]
  },
  {
   "cell_type": "code",
   "execution_count": 5,
   "metadata": {},
   "outputs": [],
   "source": [
    "indicators_md=pd.read_csv('//Users/rony/Dropbox/2. projects/AMR/datasets/Fingertips(PHE)/metadata/AMRlocalindicators.metadata.csv',low_memory=False)"
   ]
  },
  {
   "cell_type": "code",
   "execution_count": 6,
   "metadata": {},
   "outputs": [
    {
     "data": {
      "text/plain": [
       "array([92377, 92350, 92165, 91904, 92167, 92019])"
      ]
     },
     "execution_count": 6,
     "metadata": {},
     "output_type": "execute_result"
    }
   ],
   "source": [
    "indicators=deprivation['Indicator ID'].unique()\n",
    "indicators"
   ]
  },
  {
   "cell_type": "code",
   "execution_count": 7,
   "metadata": {},
   "outputs": [],
   "source": [
    "#index by indicators\n",
    "indicators_md=indicators_md.set_index('Indicator ID')"
   ]
  },
  {
   "cell_type": "code",
   "execution_count": null,
   "metadata": {
    "extensions": {
     "jupyter_dashboards": {
      "version": 1,
      "views": {
       "grid_default": {
        "hidden": true
       },
       "report_default": {
        "hidden": true
       }
      }
     }
    }
   },
   "outputs": [],
   "source": [
    "print ('-------------------------------England Indicators-----------------------------------')\n",
    "\n",
    "for index, indicator in enumerate (indicators):\n",
    "    print ('-----------------------------------------------------------------------------')\n",
    "    print ('Indicator:',indicator)\n",
    "    print ('Description: ',indicators_md.loc[indicator,'Indicator full name'],end='.\\n')\n",
    "    print ('Methodology: ',indicators_md.loc[indicator,'Methodology'],end='\\n')\n",
    "    print ('Unit: ',indicators_md.loc[indicator,'Unit'],end='\\n')\n",
    "    print ('Numerator: ',indicators_md.loc[indicator,'Definition of numerator'],end='\\n')\n",
    "    print ('Denominator: ',indicators_md.loc[indicator,'Definition of denominator'],end='\\n')\n",
    "    print ('Production: ',indicators_md.loc[indicator,'Indicator production'],end='\\n')    "
   ]
  },
  {
   "cell_type": "code",
   "execution_count": 8,
   "metadata": {},
   "outputs": [
    {
     "data": {
      "text/plain": [
       "array(['Most deprived decile', 'Second most deprived decile',\n",
       "       'Third more deprived decile', 'Fourth more deprived decile',\n",
       "       'Fifth more deprived decile', 'Fifth less deprived decile',\n",
       "       'Fourth less deprived decile', 'Third less deprived decile',\n",
       "       'Second least deprived decile', 'Least deprived decile'],\n",
       "      dtype=object)"
      ]
     },
     "execution_count": 8,
     "metadata": {},
     "output_type": "execute_result"
    }
   ],
   "source": [
    "#Produce a list of deprivation categories\n",
    "deprivation_categories=deprivation['Category'].unique()\n",
    "deprivation_categories"
   ]
  },
  {
   "cell_type": "raw",
   "metadata": {},
   "source": [
    "indicators_dict={} #dictionary to contain dataframe for each indicator\n",
    "for index1, indicator in enumerate (indicators): #iterate to produce a dataframe for each indicator\n",
    "    df_ind_deciles=pd.DataFrame() #a dataframe to collect all decile data per the indicator\n",
    "    #print (indicator)\n",
    "    df_indicator=deprivation.loc[deprivation['Indicator ID']==indicator] #df_indicator=indicator dataframe with all categories\n",
    "    #print (df_indicator['Value'].head(2)) \n",
    "    for index, category in enumerate (deprivation_categories): #iterate decile categories\n",
    "        df_decile=pd.Series() #  a series to collect a decile category data per the indicator\n",
    "        #print (category)\n",
    "        df_decile=df_indicator['Value'].loc[df_indicator['Category']==category]\n",
    "        #print (time_period)\n",
    "        #print (df_decile.head())\n",
    "        df_ind_deciles[category]=df_decile.values\n",
    "        df_ind_deciles[category]=round (df_ind_deciles[category],2)\n",
    "    #set date_time index\n",
    "    time_period=df_indicator['Time period'].loc[df_indicator['Category']==category].unique()\n",
    "    df_ind_deciles=df_ind_deciles.set_index(time_period)\n",
    "    indicators_dict[indicator]=df_ind_deciles"
   ]
  },
  {
   "cell_type": "raw",
   "metadata": {},
   "source": [
    "Indicator: 91904\n",
    "Description: Quarterly total number of prescribed antibiotic items per Specific Therapeutic group Age-sex weightings \n",
    "Related Prescribing Units (STAR-PU) by Clinical Commissioning Group (CCG) within England."
   ]
  },
  {
   "cell_type": "code",
   "execution_count": 45,
   "metadata": {},
   "outputs": [
    {
     "data": {
      "text/html": [
       "<iframe id=\"igraph\" scrolling=\"no\" style=\"border:none;\" seamless=\"seamless\" src=\"https://plot.ly/~rony_armon/77.embed\" height=\"525px\" width=\"100%\"></iframe>"
      ],
      "text/plain": [
       "<plotly.tools.PlotlyDisplay object>"
      ]
     },
     "execution_count": 45,
     "metadata": {},
     "output_type": "execute_result"
    }
   ],
   "source": [
    "all_deciles=indicators_dict[91904]\n",
    "py.iplot([{\n",
    "    'x': all_deciles.index,\n",
    "    'y': all_deciles[col],\n",
    "    'name': col}  for col in all_deciles.columns], filename='91904_deciles')"
   ]
  },
  {
   "cell_type": "raw",
   "metadata": {},
   "source": [
    "Indicator: 92377\n",
    "Description:  Twelve month rolling total number of prescribed antibiotic items per STAR-PU by \n",
    "Clinical Commissioning Group (CCG) within England"
   ]
  },
  {
   "cell_type": "code",
   "execution_count": 46,
   "metadata": {},
   "outputs": [
    {
     "data": {
      "text/html": [
       "<iframe id=\"igraph\" scrolling=\"no\" style=\"border:none;\" seamless=\"seamless\" src=\"https://plot.ly/~rony_armon/79.embed\" height=\"525px\" width=\"100%\"></iframe>"
      ],
      "text/plain": [
       "<plotly.tools.PlotlyDisplay object>"
      ]
     },
     "execution_count": 46,
     "metadata": {},
     "output_type": "execute_result"
    }
   ],
   "source": [
    "all_deciles=indicators_dict[92377]\n",
    "py.iplot([{\n",
    "    'x': all_deciles.index,\n",
    "    'y': all_deciles[col],\n",
    "    'name': col}  for col in all_deciles.columns], filename='92377_deciles')"
   ]
  },
  {
   "cell_type": "raw",
   "metadata": {},
   "source": [
    "Indicator: 92350\n",
    "Description:  Twelve month rolling percentage of prescribed antibiotic items from cephalosporin, \n",
    "    quinolone and co-amoxiclav class.\n",
    "Cephalosporin, fluoroquinolone and co-amoxiclav, are broad spectrum antimicrobials. T\n",
    "These form an important category for prescribing surveillance."
   ]
  },
  {
   "cell_type": "code",
   "execution_count": 47,
   "metadata": {},
   "outputs": [
    {
     "data": {
      "text/html": [
       "<iframe id=\"igraph\" scrolling=\"no\" style=\"border:none;\" seamless=\"seamless\" src=\"https://plot.ly/~rony_armon/81.embed\" height=\"525px\" width=\"100%\"></iframe>"
      ],
      "text/plain": [
       "<plotly.tools.PlotlyDisplay object>"
      ]
     },
     "execution_count": 47,
     "metadata": {},
     "output_type": "execute_result"
    }
   ],
   "source": [
    "all_deciles=indicators_dict[92350]\n",
    "#the year 2011 included many empty values and was therefore excluded:\n",
    "indicators_dict[92350]=indicators_dict[92350].dropna() \n",
    "\n",
    "#to dashboard\n",
    "py.iplot([{\n",
    "    'x': all_deciles.index,\n",
    "    'y': all_deciles[col],\n",
    "    'name': col}  for col in all_deciles.columns], filename='92350_deciles')"
   ]
  },
  {
   "cell_type": "raw",
   "metadata": {},
   "source": [
    "Indicator: 92167\n",
    "Description:  Percentage of cephalosporin, quinolone and co-amoxiclav class prescribed antibiotic items \n",
    "in relation to a sub set of the British National Formula (BNF) 5.1 category, by quarter."
   ]
  },
  {
   "cell_type": "code",
   "execution_count": 49,
   "metadata": {},
   "outputs": [
    {
     "data": {
      "text/html": [
       "<iframe id=\"igraph\" scrolling=\"no\" style=\"border:none;\" seamless=\"seamless\" src=\"https://plot.ly/~rony_armon/85.embed\" height=\"525px\" width=\"100%\"></iframe>"
      ],
      "text/plain": [
       "<plotly.tools.PlotlyDisplay object>"
      ]
     },
     "execution_count": 49,
     "metadata": {},
     "output_type": "execute_result"
    }
   ],
   "source": [
    "all_deciles=indicators_dict[92167]\n",
    "py.iplot([{\n",
    "    'x': all_deciles.index,\n",
    "    'y': all_deciles[col],\n",
    "    'name': col}  for col in all_deciles.columns], filename='92167_deciles')"
   ]
  },
  {
   "cell_type": "raw",
   "metadata": {},
   "source": [
    "Indicator: 92165\n",
    "Description:  Total number of prescribed antibiotic items per 1000 resident individuals \n",
    "by quarter and CCG at the primary care level."
   ]
  },
  {
   "cell_type": "code",
   "execution_count": 50,
   "metadata": {},
   "outputs": [
    {
     "data": {
      "text/html": [
       "<iframe id=\"igraph\" scrolling=\"no\" style=\"border:none;\" seamless=\"seamless\" src=\"https://plot.ly/~rony_armon/75.embed\" height=\"525px\" width=\"100%\"></iframe>"
      ],
      "text/plain": [
       "<plotly.tools.PlotlyDisplay object>"
      ]
     },
     "execution_count": 50,
     "metadata": {},
     "output_type": "execute_result"
    }
   ],
   "source": [
    "all_deciles=indicators_dict[92165]\n",
    "py.iplot([{\n",
    "    'x': all_deciles.index,\n",
    "    'y': all_deciles[col],\n",
    "    'name': col}  for col in all_deciles.columns], filename='England_deciles')"
   ]
  },
  {
   "cell_type": "code",
   "execution_count": 44,
   "metadata": {},
   "outputs": [
    {
     "data": {
      "text/html": [
       "<script>\n",
       "code_show=true; \n",
       "function code_toggle() {\n",
       " if (code_show){\n",
       " $('div.input').hide();\n",
       " } else {\n",
       " $('div.input').show();\n",
       " }\n",
       " code_show = !code_show\n",
       "} \n",
       "$( document ).ready(code_toggle);\n",
       "</script>\n",
       "The raw code for this IPython notebook is by default hidden for easier reading.\n",
       "To toggle on/off the raw code, click <a href=\"javascript:code_toggle()\">here</a>."
      ],
      "text/plain": [
       "<IPython.core.display.HTML object>"
      ]
     },
     "execution_count": 44,
     "metadata": {},
     "output_type": "execute_result"
    }
   ],
   "source": [
    "from IPython.display import HTML\n",
    "HTML('''<script>\n",
    "code_show=true; \n",
    "function code_toggle() {\n",
    " if (code_show){\n",
    " $('div.input').hide();\n",
    " } else {\n",
    " $('div.input').show();\n",
    " }\n",
    " code_show = !code_show\n",
    "} \n",
    "$( document ).ready(code_toggle);\n",
    "</script>\n",
    "The raw code for this IPython notebook is by default hidden for easier reading.\n",
    "To toggle on/off the raw code, click <a href=\"javascript:code_toggle()\">here</a>.''')"
   ]
  },
  {
   "cell_type": "code",
   "execution_count": null,
   "metadata": {},
   "outputs": [],
   "source": []
  }
 ],
 "metadata": {
  "extensions": {
   "jupyter_dashboards": {
    "activeView": "grid_default",
    "version": 1,
    "views": {
     "grid_default": {
      "cellMargin": 10,
      "defaultCellHeight": 20,
      "maxColumns": 12,
      "name": "grid",
      "type": "grid"
     },
     "report_default": {
      "name": "report",
      "type": "report"
     }
    }
   }
  },
  "kernelspec": {
   "display_name": "Python 3",
   "language": "python",
   "name": "python3"
  },
  "language_info": {
   "codemirror_mode": {
    "name": "ipython",
    "version": 3
   },
   "file_extension": ".py",
   "mimetype": "text/x-python",
   "name": "python",
   "nbconvert_exporter": "python",
   "pygments_lexer": "ipython3",
   "version": "3.6.4"
  }
 },
 "nbformat": 4,
 "nbformat_minor": 2
}
