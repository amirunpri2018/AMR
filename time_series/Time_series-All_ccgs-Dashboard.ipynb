{
 "cells": [
  {
   "cell_type": "raw",
   "metadata": {},
   "source": [
    "Total number of prescribed antibiotic items per STAR-PU by quarter\n",
    "per Clinical Commissioning Group in England (ID:92377)'\n",
    "NHS Targets:\n",
    "    2013/14=1.161 \n",
    "    2018/19=0.965 \n",
    "    Vertical mark: November 2015\n",
    "\n",
    "Production of data for time series dashboard"
   ]
  },
  {
   "cell_type": "code",
   "execution_count": 30,
   "metadata": {
    "extensions": {
     "jupyter_dashboards": {
      "version": 1,
      "views": {
       "grid_default": {
        "hidden": true
       },
       "report_default": {
        "hidden": true
       }
      }
     }
    }
   },
   "outputs": [],
   "source": [
    "import pandas as pd\n",
    "import numpy as np\n",
    "import re\n",
    "import matplotlib.pyplot as plt\n",
    "import seaborn as sns\n",
    "\n",
    "#Get datasets\n",
    "ccgs_92377=pd.read_csv('ccgs_92377_clean.csv',low_memory=False)\n",
    "diff=pd.read_csv('diff_2014_2017.csv')\n",
    "diff.rename(columns = {'Unnamed: 0':'CCG'}, inplace = True)\n",
    "\n",
    "ccgs_list=ccgs_92377['CCG'].unique().tolist() #list of ccg names\n",
    "ccgs_ts=pd.DataFrame() #dataframe for ccgs time series\n",
    "for index, value in enumerate (ccgs_list):\n",
    "        indicator_ccg=ccgs_92377[ccgs_92377['CCG']==value]\n",
    "        indicator_ccg_values=indicator_ccg.loc[:,'Value']\n",
    "        ccgs_ts [value]=pd.Series()\n",
    "        ccgs_ts [value]=indicator_ccg_values.values #store the indicator data for all ccgs\n",
    "        \n",
    "#datetime index for the ccgs\n",
    "datetime_index=pd.to_datetime(ccgs_92377['Timeperiod'].unique(), format='%Y-%m-%d')\n",
    "ccgs_ts=ccgs_ts.set_index(datetime_index)"
   ]
  },
  {
   "cell_type": "raw",
   "metadata": {},
   "source": [
    "Produce ccg to region/diff/area code dictionaries"
   ]
  },
  {
   "cell_type": "code",
   "execution_count": 31,
   "metadata": {},
   "outputs": [],
   "source": [
    "ccg_to_region=ccgs_92377.loc[ccgs_92377['Timeperiod']=='2016-04-01']\n",
    "ccg_to_region=ccg_to_region[['CCG','Region','AreaCode']]\n",
    "ccg_to_diff=diff[['CCG','%diff.']]\n",
    "\n",
    "region_dict = dict(zip(ccg_to_region['CCG'], ccg_to_region['Region']))\n",
    "area_dict = dict(zip(ccg_to_region['CCG'], ccg_to_region['AreaCode']))\n",
    "diff_dict=dict(zip (ccg_to_diff['CCG'],ccg_to_diff['%diff.']))"
   ]
  },
  {
   "cell_type": "raw",
   "metadata": {},
   "source": [
    "Produce ccg to region dictionary"
   ]
  },
  {
   "cell_type": "code",
   "execution_count": 34,
   "metadata": {},
   "outputs": [],
   "source": [
    "#melt ccgs\n",
    "ccgs_ts['Time_period']=ccgs_ts.index\n",
    "ccgs_ts_m=pd.melt(frame=ccgs_ts, id_vars='Time_period')\n",
    "ccgs_ts_m.rename(columns = {'variable':'CCG'}, inplace = True)"
   ]
  },
  {
   "cell_type": "code",
   "execution_count": 35,
   "metadata": {},
   "outputs": [],
   "source": [
    "#build Regions column\n",
    "regions_list=[] #list for regions \n",
    "areas_list=[] #list for area codes\n",
    "diff_list=[] #list for diff (reduction) values\n",
    "target_class_list=[]\n",
    "for label, row in ccgs_ts_m.iterrows() :\n",
    "        regions_list=regions_list+[region_dict[row['CCG']]]\n",
    "        areas_list=areas_list+[area_dict[row['CCG']]]\n",
    "        diff_list=diff_list + [diff_dict[row['CCG']]]\n",
    "ccgs_ts_m['Region']=regions_list\n",
    "ccgs_ts_m['AreaCode']=areas_list\n",
    "ccgs_ts_m['%diff.']=diff_list\n",
    "\n",
    "ccgs_ts_m=ccgs_ts_m[['Time_period', 'CCG', 'Region','AreaCode','value','%diff.']]"
   ]
  },
  {
   "cell_type": "code",
   "execution_count": 39,
   "metadata": {},
   "outputs": [],
   "source": [
    "#write ccvs\n",
    "ccgs_ts_m.to_csv('ccgs_time_series.csv')"
   ]
  }
 ],
 "metadata": {
  "extensions": {
   "jupyter_dashboards": {
    "activeView": "grid_default",
    "version": 1,
    "views": {
     "grid_default": {
      "cellMargin": 10,
      "defaultCellHeight": 20,
      "maxColumns": 12,
      "name": "grid",
      "type": "grid"
     },
     "report_default": {
      "name": "report",
      "type": "report"
     }
    }
   }
  },
  "kernelspec": {
   "display_name": "Python 3",
   "language": "python",
   "name": "python3"
  },
  "language_info": {
   "codemirror_mode": {
    "name": "ipython",
    "version": 3
   },
   "file_extension": ".py",
   "mimetype": "text/x-python",
   "name": "python",
   "nbconvert_exporter": "python",
   "pygments_lexer": "ipython3",
   "version": "3.6.4"
  }
 },
 "nbformat": 4,
 "nbformat_minor": 2
}
