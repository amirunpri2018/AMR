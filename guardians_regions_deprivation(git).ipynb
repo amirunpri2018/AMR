{
 "cells": [
  {
   "cell_type": "raw",
   "metadata": {},
   "source": [
    "Indicator: 92019\n",
    "Description:  Antibiotic Guardians per 100,000 population per calendar year by CCGs."
   ]
  },
  {
   "cell_type": "code",
   "execution_count": null,
   "metadata": {},
   "outputs": [],
   "source": [
    "#load packages\n",
    "import pandas as pd\n",
    "import re\n",
    "import datetime\n",
    "import matplotlib.pyplot as plt\n",
    "import seaborn as sns\n",
    "import plotly.plotly as py\n",
    "import plotly.graph_objs as go\n",
    "import cufflinks as cf\n",
    "\n",
    "indicator=92019\n",
    "dir_path='//Users/rony/Dropbox/2. projects/AMR/datasets/Fingertips(PHE)/CCGs.csv'\n",
    "CCGs_source=pd.read_csv(dir_path,low_memory=False)\n",
    "\n",
    "#select indicator rows\n",
    "indicator_df=CCGs_source.loc[CCGs_source['Indicator ID']==indicator]\n",
    "\n",
    "#select regions rows\n",
    "indicator_regions=indicator_df.loc[indicator_df['Area Type']=='Sub-region']\n",
    "\n",
    "#Clean regions names\n",
    "temp_series=indicator_regions ['Area Name'].str.rstrip('region')\n",
    "temp_series1=temp_series.str.rstrip('NHS ')\n",
    "indicator_regions['Region']=temp_series1\n",
    "\n",
    "#select regions rows\n",
    "indicator_deprivation=indicator_df.loc[indicator_df['Category Type']=='CCG deprivation deciles in England (IMD2010)']\n",
    "\n",
    "#round number of guardians\n",
    "indicator_regions['Value(R)']=round (indicator_regions['Value']).astype(int)\n",
    "indicator_deprivation['Value(R)']=round (indicator_deprivation['Value']).astype(int)\n",
    "\n",
    "#keep relevant data only\n",
    "indicator_regions=indicator_regions[['Region','Time period', 'Value(R)', 'Denominator', 'Count','Value']]\n",
    "indicator_deprivation=indicator_deprivation[['Category','Time period', 'Value(R)', 'Denominator', 'Count','Value']]\n",
    "\n",
    "#lists for iteration\n",
    "regions=indicator_regions['Region'].unique() #regions \n",
    "deprivation_deciles=indicator_deprivation['Category'].unique() #deciles \n",
    "\n",
    "#store regions data as columns\n",
    "all_regions=pd.DataFrame() # to store regions as columns\n",
    "for index, region in enumerate (regions): #iterate decile categories\n",
    "        region_series=pd.Series() #  a series to collect a decile category data per the indicator\n",
    "        df_region=indicator_regions['Value(R)'].loc[indicator_regions['Region']==region]\n",
    "        all_regions[region]=df_region.values\n",
    "\n",
    "#store declies data as columns\n",
    "all_deciles=pd.DataFrame() # to store regions as columns\n",
    "for index, decile in enumerate (deprivation_deciles): #iterate decile categories\n",
    "        region_series=pd.Series() #  a series to collect a decile category data per the indicator\n",
    "        df_decile=indicator_deprivation['Value(R)'].loc[indicator_deprivation['Category']==decile]\n",
    "        all_deciles[decile]=df_decile.values        \n",
    "        \n",
    "#years as index\n",
    "time_index=indicator_regions['Time period'].unique()\n",
    "all_regions=all_regions.set_index(time_index)\n",
    "all_deciles=all_deciles.set_index(time_index)"
   ]
  },
  {
   "cell_type": "code",
   "execution_count": 30,
   "metadata": {},
   "outputs": [],
   "source": [
    "#output: csv files\n",
    "all_regions.to_csv('guardians_regions.csv')\n",
    "all_deciles.to_csv('guardians_deprivation.csv')"
   ]
  },
  {
   "cell_type": "code",
   "execution_count": 28,
   "metadata": {},
   "outputs": [
    {
     "data": {
      "text/html": [
       "<iframe id=\"igraph\" scrolling=\"no\" style=\"border:none;\" seamless=\"seamless\" src=\"https://plot.ly/~rony_armon/91.embed\" height=\"525px\" width=\"100%\"></iframe>"
      ],
      "text/plain": [
       "<plotly.tools.PlotlyDisplay object>"
      ]
     },
     "execution_count": 28,
     "metadata": {},
     "output_type": "execute_result"
    }
   ],
   "source": [
    "py.iplot([{\n",
    "    'x': all_regions.index, \n",
    "    'y': all_regions[col],\n",
    "    'name': col}  for col in all_regions.columns], filename='guardians_regions')"
   ]
  },
  {
   "cell_type": "code",
   "execution_count": 29,
   "metadata": {},
   "outputs": [
    {
     "data": {
      "text/html": [
       "<iframe id=\"igraph\" scrolling=\"no\" style=\"border:none;\" seamless=\"seamless\" src=\"https://plot.ly/~rony_armon/93.embed\" height=\"525px\" width=\"100%\"></iframe>"
      ],
      "text/plain": [
       "<plotly.tools.PlotlyDisplay object>"
      ]
     },
     "execution_count": 29,
     "metadata": {},
     "output_type": "execute_result"
    }
   ],
   "source": [
    "py.iplot([{\n",
    "    'x': all_deciles.index, \n",
    "    'y': all_deciles[col],\n",
    "    'name': col}  for col in all_deciles.columns], filename='guardians_deciles')"
   ]
  }
 ],
 "metadata": {
  "extensions": {
   "jupyter_dashboards": {
    "activeView": "grid_default",
    "version": 1,
    "views": {
     "grid_default": {
      "cellMargin": 10,
      "defaultCellHeight": 20,
      "maxColumns": 12,
      "name": "grid",
      "type": "grid"
     },
     "report_default": {
      "name": "report",
      "type": "report"
     }
    }
   }
  },
  "kernelspec": {
   "display_name": "Python 3",
   "language": "python",
   "name": "python3"
  },
  "language_info": {
   "codemirror_mode": {
    "name": "ipython",
    "version": 3
   },
   "file_extension": ".py",
   "mimetype": "text/x-python",
   "name": "python",
   "nbconvert_exporter": "python",
   "pygments_lexer": "ipython3",
   "version": "3.6.4"
  }
 },
 "nbformat": 4,
 "nbformat_minor": 2
}
